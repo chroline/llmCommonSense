{
 "cells": [
  {
   "metadata": {
    "ExecuteTime": {
     "end_time": "2024-06-29T21:01:40.789287Z",
     "start_time": "2024-06-29T21:01:40.773779Z"
    }
   },
   "cell_type": "code",
   "source": [
    "%load_ext autoreload\n",
    "%autoreload 2\n",
    "\n",
    "from dotenv import load_dotenv\n",
    "\n",
    "load_dotenv()"
   ],
   "id": "c60fce938aeed57d",
   "outputs": [
    {
     "data": {
      "text/plain": [
       "True"
      ]
     },
     "execution_count": 1,
     "metadata": {},
     "output_type": "execute_result"
    }
   ],
   "execution_count": 1
  },
  {
   "cell_type": "code",
   "id": "initial_id",
   "metadata": {
    "collapsed": true,
    "ExecuteTime": {
     "end_time": "2024-06-29T21:02:01.688038Z",
     "start_time": "2024-06-29T21:01:45.391223Z"
    }
   },
   "source": [
    "from lib.openai import ask_gpt\n",
    "from lib.relations import RELATIONS\n",
    "\n",
    "examples = {}\n",
    "\n",
    "for relation in RELATIONS.keys():\n",
    "    relation_text = relation.split(\"/r/\")[1]\n",
    "\n",
    "    res = ask_gpt(f\"\"\"\n",
    "Your job is to provide 3 examples of analogies for the provided relation.\n",
    "The analogies should ONLY work for the provided relation; i.e., they would be invalid for any other provided relations.\n",
    "\n",
    "Now, provide 3 examples of analogies for this relation:\n",
    "${relation_text}\n",
    "Description: {RELATIONS[relation]['Description']}\n",
    "Example(s): {RELATIONS[relation]['Examples']}\n",
    "                \n",
    "You must provide 3 lines of separate analogies in the following format:\n",
    "NODE_A -> NODE_B\n",
    "NODE_A -> NODE_B\n",
    "NODE_A -> NODE_B\n",
    "\"\"\", model=\"gpt-4o\")\n",
    "\n",
    "    example = [v.strip().split(\" -> \") for v in res.strip().split(\"\\n\")]\n",
    "    examples[relation] = example\n",
    "\n",
    "examples"
   ],
   "outputs": [
    {
     "data": {
      "text/plain": [
       "{'/r/RelatedTo': [['rain', 'umbrella'], ['writer', 'book'], ['moon', 'night']],\n",
       " '/r/FormOf': [['running', 'run'], ['children', 'child'], ['better', 'good']],\n",
       " '/r/IsA': [['dog', 'animal'], ['rose', 'flower'], ['piano', 'instrument']],\n",
       " '/r/PartOf': [['keyboard', 'computer'],\n",
       "  ['leaf', 'tree'],\n",
       "  ['engine', 'airplane']],\n",
       " '/r/HasA': [['car', 'engine'], ['house', 'roof'], ['book', 'pages']],\n",
       " '/r/UsedFor': [['key', 'unlock door'],\n",
       "  ['pen', 'write'],\n",
       "  ['spoon', 'eat soup']],\n",
       " '/r/CapableOf': [['bird', 'fly'], ['teacher', 'teach'], ['car', 'drive']],\n",
       " '/r/AtLocation': [['oven', 'cookies'],\n",
       "  ['library', 'books'],\n",
       "  ['garage', 'car']],\n",
       " '/r/Causes': [['rain', 'flood'],\n",
       "  ['studying', 'knowledge'],\n",
       "  ['overheating', 'meltdown']],\n",
       " '/r/HasSubevent': [['baking', 'mixing ingredients'],\n",
       "  ['taking a shower', 'turning on the water'],\n",
       "  ['writing a letter', 'picking up the pen']],\n",
       " '/r/HasFirstSubevent': [['start a car', 'insert key'],\n",
       "  ['write a letter', 'pick up pen'],\n",
       "  ['cook a meal', 'gather ingredients']],\n",
       " '/r/HasLastSubevent': [['write a letter', 'seal the envelope'],\n",
       "  ['attend a wedding', 'dance at the reception'],\n",
       "  ['take a flight', 'land at the destination']],\n",
       " '/r/HasPrerequisite': [['sunrise', 'night'],\n",
       "  ['harvest', 'planting'],\n",
       "  ['flowering', 'budding']],\n",
       " '/r/HasProperty': [['lemon', 'sour'], ['velvet', 'soft'], ['honey', 'sweet']],\n",
       " '/r/MotivatedByGoal': [['study', 'pass'],\n",
       "  ['invest', 'profit'],\n",
       "  ['train', 'compete']],\n",
       " '/r/Desires': [['student', 'knowledge'],\n",
       "  ['artist', 'inspiration'],\n",
       "  ['athlete', 'victory']],\n",
       " '/r/CreatedBy': [['poem', 'write'],\n",
       "  ['sculpture', 'carve'],\n",
       "  ['portrait', 'paint']],\n",
       " '/r/Synonym': [['happy', 'joyful'],\n",
       "  ['smart', 'intelligent'],\n",
       "  ['large', 'big']],\n",
       " '/r/Antonym': [['happy', 'sad'], ['up', 'down'], ['fast', 'slow']],\n",
       " '/r/DistinctFrom': [['owl', 'sparrow'],\n",
       "  ['circle', 'square'],\n",
       "  ['comedy', 'tragedy']],\n",
       " '/r/DerivedFrom': [['butterfly', 'fly'],\n",
       "  ['airplane', 'plane'],\n",
       "  ['basketball', 'ball']],\n",
       " '/r/DefinedAs': [['happiness', 'state of joy and contentment'],\n",
       "  ['innovation', 'introduction of new ideas and methods'],\n",
       "  ['faith', 'belief without evidence']],\n",
       " '/r/HasContext': [['jargon', 'business'],\n",
       "  ['overtime', 'sports'],\n",
       "  ['hoosegow', 'prison']],\n",
       " '/r/SimilarTo': [['bus', 'coach'],\n",
       "  ['smartphone', 'tablet'],\n",
       "  ['skyscraper', 'high-rise']],\n",
       " '/r/EtymologicallyRelatedTo': [['honeymoon', 'honigmonat'],\n",
       "  ['café', 'cafeteria'],\n",
       "  ['pajamas', 'pyjamas']],\n",
       " '/r/CausesDesire': [['seeing a beach', 'plan a vacation'],\n",
       "  ['reading a mystery novel', 'solve a puzzle'],\n",
       "  ['smelling fresh coffee', 'drink a cup']],\n",
       " '/r/MadeOf': [['chair', 'wood'], ['shirt', 'cotton'], ['ring', 'gold']],\n",
       " '/r/ReceivesAction': [['door', 'open'],\n",
       "  ['homework', 'complete'],\n",
       "  ['movie', 'watch']]}"
      ]
     },
     "execution_count": 2,
     "metadata": {},
     "output_type": "execute_result"
    }
   ],
   "execution_count": 2
  },
  {
   "metadata": {
    "ExecuteTime": {
     "end_time": "2024-06-29T21:02:21.372423Z",
     "start_time": "2024-06-29T21:02:21.352745Z"
    }
   },
   "cell_type": "code",
   "source": [
    "from lib.json import save_to_json_file\n",
    "\n",
    "save_to_json_file(\"relation_examples\", examples)"
   ],
   "id": "4ad879e86d59966d",
   "outputs": [],
   "execution_count": 4
  },
  {
   "metadata": {},
   "cell_type": "code",
   "outputs": [],
   "execution_count": null,
   "source": "",
   "id": "43ac56673dd3e4cf"
  }
 ],
 "metadata": {
  "kernelspec": {
   "display_name": "Python 3",
   "language": "python",
   "name": "python3"
  },
  "language_info": {
   "codemirror_mode": {
    "name": "ipython",
    "version": 2
   },
   "file_extension": ".py",
   "mimetype": "text/x-python",
   "name": "python",
   "nbconvert_exporter": "python",
   "pygments_lexer": "ipython2",
   "version": "2.7.6"
  }
 },
 "nbformat": 4,
 "nbformat_minor": 5
}
